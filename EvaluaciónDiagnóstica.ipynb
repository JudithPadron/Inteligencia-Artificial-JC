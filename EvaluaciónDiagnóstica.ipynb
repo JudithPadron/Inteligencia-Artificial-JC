{
  "nbformat": 4,
  "nbformat_minor": 0,
  "metadata": {
    "colab": {
      "provenance": [],
      "toc_visible": true,
      "authorship_tag": "ABX9TyPP+S2dQMfV7jYYhYhq+XQM",
      "include_colab_link": true
    },
    "kernelspec": {
      "name": "python3",
      "display_name": "Python 3"
    },
    "language_info": {
      "name": "python"
    }
  },
  "cells": [
    {
      "cell_type": "markdown",
      "metadata": {
        "id": "view-in-github",
        "colab_type": "text"
      },
      "source": [
        "<a href=\"https://colab.research.google.com/github/JudithPadron/Inteligencia-Artificial-JC/blob/main/Evaluaci%C3%B3nDiagn%C3%B3stica.ipynb\" target=\"_parent\"><img src=\"https://colab.research.google.com/assets/colab-badge.svg\" alt=\"Open In Colab\"/></a>"
      ]
    },
    {
      "cell_type": "markdown",
      "source": [
        "#Evaluación Diagnóstica"
      ],
      "metadata": {
        "id": "0eavnqx600j2"
      }
    },
    {
      "cell_type": "markdown",
      "source": [
        "¿Como se declara una lista en python?"
      ],
      "metadata": {
        "id": "asoO5j_S0oNO"
      }
    },
    {
      "cell_type": "code",
      "source": [
        "my_list = [1,2,3,4]\n",
        "print (my_list)"
      ],
      "metadata": {
        "colab": {
          "base_uri": "https://localhost:8080/"
        },
        "id": "ICCO1ri00tsm",
        "outputId": "11639739-3f32-44c3-bf1a-6021fa6f0d78"
      },
      "execution_count": null,
      "outputs": [
        {
          "output_type": "stream",
          "name": "stdout",
          "text": [
            "[1, 2, 3, 4]\n"
          ]
        }
      ]
    },
    {
      "cell_type": "markdown",
      "source": [
        "¿Qué función se usa para conocer el número de elementos en una lista?"
      ],
      "metadata": {
        "id": "5ndTbO2v3eW7"
      }
    },
    {
      "cell_type": "code",
      "source": [
        "totalElements = len(my_list)\n",
        "print (totalElements)\n",
        "print (len(my_list))"
      ],
      "metadata": {
        "colab": {
          "base_uri": "https://localhost:8080/"
        },
        "id": "Ijf3Dwvc31C7",
        "outputId": "41854a18-8119-4d67-ae3c-11c7b033ed45"
      },
      "execution_count": null,
      "outputs": [
        {
          "output_type": "stream",
          "name": "stdout",
          "text": [
            "4\n",
            "4\n"
          ]
        }
      ]
    },
    {
      "cell_type": "markdown",
      "source": [
        "¿Qué resultado obtendremos al ejecutar el siguiente código?"
      ],
      "metadata": {
        "id": "h2CT8b2I7Gsv"
      }
    },
    {
      "cell_type": "code",
      "source": [
        "a = [1,2,3,4,5]\n",
        "print (a[::-1])"
      ],
      "metadata": {
        "colab": {
          "base_uri": "https://localhost:8080/"
        },
        "id": "8NlCALVz7dHX",
        "outputId": "9c68adcb-1466-4c49-b198-6cc24b207a93"
      },
      "execution_count": 1,
      "outputs": [
        {
          "output_type": "stream",
          "name": "stdout",
          "text": [
            "[5, 4, 3, 2, 1]\n"
          ]
        }
      ]
    },
    {
      "cell_type": "markdown",
      "source": [
        "¿Cuál es el resultado de la siguiente expresión?"
      ],
      "metadata": {
        "id": "kKJ8P7iW7waE"
      }
    },
    {
      "cell_type": "code",
      "source": [
        "print(3*\"5\"+2)"
      ],
      "metadata": {
        "colab": {
          "base_uri": "https://localhost:8080/",
          "height": 141
        },
        "id": "djSRU-Ks75lk",
        "outputId": "311b518e-4507-4a77-8578-aa36c63953af"
      },
      "execution_count": 2,
      "outputs": [
        {
          "output_type": "error",
          "ename": "TypeError",
          "evalue": "can only concatenate str (not \"int\") to str",
          "traceback": [
            "\u001b[0;31m---------------------------------------------------------------------------\u001b[0m",
            "\u001b[0;31mTypeError\u001b[0m                                 Traceback (most recent call last)",
            "\u001b[0;32m<ipython-input-2-ecf93d8422a1>\u001b[0m in \u001b[0;36m<cell line: 1>\u001b[0;34m()\u001b[0m\n\u001b[0;32m----> 1\u001b[0;31m \u001b[0mprint\u001b[0m\u001b[0;34m(\u001b[0m\u001b[0;36m3\u001b[0m\u001b[0;34m*\u001b[0m\u001b[0;34m\"5\"\u001b[0m\u001b[0;34m+\u001b[0m\u001b[0;36m2\u001b[0m\u001b[0;34m)\u001b[0m\u001b[0;34m\u001b[0m\u001b[0;34m\u001b[0m\u001b[0m\n\u001b[0m",
            "\u001b[0;31mTypeError\u001b[0m: can only concatenate str (not \"int\") to str"
          ]
        }
      ]
    },
    {
      "cell_type": "markdown",
      "source": [
        "¿Qué salida generará el siguiente código?"
      ],
      "metadata": {
        "id": "-S9B0N_E8D3v"
      }
    },
    {
      "cell_type": "code",
      "source": [
        "def foo(x,y=[]):\n",
        "  y.append(x)\n",
        "  return y\n",
        "\n",
        "print(foo(1))\n",
        "print(foo(2,[]))\n",
        "print(foo(3))"
      ],
      "metadata": {
        "colab": {
          "base_uri": "https://localhost:8080/"
        },
        "id": "H9OZ5Yif8N83",
        "outputId": "fdbc32d1-fd46-41b1-a532-ebd8839802cc"
      },
      "execution_count": 3,
      "outputs": [
        {
          "output_type": "stream",
          "name": "stdout",
          "text": [
            "[1]\n",
            "[2]\n",
            "[1, 3]\n"
          ]
        }
      ]
    },
    {
      "cell_type": "markdown",
      "source": [
        "¿Qué resultado obtendremos al ejecutar el siguiente código?"
      ],
      "metadata": {
        "id": "hwr_-OUP8iu-"
      }
    },
    {
      "cell_type": "code",
      "source": [
        "def multiply_list(numbers,factor):\n",
        "  result = []\n",
        "  for number in numbers:\n",
        "    result.append(number*factor)\n",
        "  return result\n",
        "\n",
        "my_list = [1,2,3]\n",
        "output=(multiply_list(my_list,2))\n",
        "print(output)"
      ],
      "metadata": {
        "colab": {
          "base_uri": "https://localhost:8080/"
        },
        "id": "i6DiWhlE8vmT",
        "outputId": "2399859e-4f65-41ad-d498-e1332e29c847"
      },
      "execution_count": 6,
      "outputs": [
        {
          "output_type": "stream",
          "name": "stdout",
          "text": [
            "[2, 4, 6]\n"
          ]
        }
      ]
    },
    {
      "cell_type": "markdown",
      "source": [
        "# Práctica de python"
      ],
      "metadata": {
        "id": "-_Dqy_R51AeN"
      }
    },
    {
      "cell_type": "markdown",
      "source": [
        "Clasificación de una lista con números pares e impares"
      ],
      "metadata": {
        "id": "SNTUTuVX1G_3"
      }
    },
    {
      "cell_type": "code",
      "source": [
        "#Declaración de variables\n",
        "numeros = [10,25,36,98,77,34,89,58]\n",
        "\n",
        "pares = []\n",
        "impares = []\n"
      ],
      "metadata": {
        "id": "ps4IhXqk1b1Y"
      },
      "execution_count": null,
      "outputs": []
    },
    {
      "cell_type": "code",
      "source": [
        "# Ciclo for para recorrer la lista\n",
        "for numero in numeros:\n",
        "  if numero % 2 == 0:\n",
        "    # pares[0] = numeros[0]; java, c, c# \"es el valor de 'i'\"\n",
        "    pares.append(numero)\n",
        "  else:\n",
        "    impares.append(numero)"
      ],
      "metadata": {
        "id": "pxe1Y3bc2qq-"
      },
      "execution_count": null,
      "outputs": []
    },
    {
      "cell_type": "code",
      "source": [
        "# impresión de resultados\n",
        "print (\"pares:\",pares,\"total:\",len(pares))\n",
        "print (\"impares:\",impares,\"total:\",len(impares))"
      ],
      "metadata": {
        "colab": {
          "base_uri": "https://localhost:8080/"
        },
        "id": "N4d6jtaC5H_s",
        "outputId": "e34cd7da-df0a-4e0d-869c-3c50a026364f"
      },
      "execution_count": null,
      "outputs": [
        {
          "output_type": "stream",
          "name": "stdout",
          "text": [
            "pares: [10, 36, 98, 34, 58] total: 5\n",
            "impares: [25, 77, 89] total: 3\n"
          ]
        }
      ]
    },
    {
      "cell_type": "code",
      "source": [
        "# Función suma de los números pares\n",
        "def sumaPares(lista):\n",
        "  suma = 0\n",
        "  for numero in lista:\n",
        "      suma += numero\n",
        "  return suma"
      ],
      "metadata": {
        "id": "7smohx3f6T4S"
      },
      "execution_count": null,
      "outputs": []
    },
    {
      "cell_type": "code",
      "source": [
        "# impresión de la suma\n",
        "print (\"suma pares:\", sumaPares(pares))\n",
        "print (\"suma impares:\", sumaPares(impares))"
      ],
      "metadata": {
        "colab": {
          "base_uri": "https://localhost:8080/"
        },
        "id": "96hhMlic7U1S",
        "outputId": "e7665e3a-0486-40ab-8d0c-0f0d9b52c4aa"
      },
      "execution_count": null,
      "outputs": [
        {
          "output_type": "stream",
          "name": "stdout",
          "text": [
            "suma pares: 236\n",
            "suma impares: 191\n"
          ]
        }
      ]
    }
  ]
}