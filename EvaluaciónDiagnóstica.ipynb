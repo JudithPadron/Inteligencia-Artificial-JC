{
  "nbformat": 4,
  "nbformat_minor": 0,
  "metadata": {
    "colab": {
      "provenance": [],
      "toc_visible": true,
      "authorship_tag": "ABX9TyOoR1Ajshq/fRtbm9gBnUvY",
      "include_colab_link": true
    },
    "kernelspec": {
      "name": "python3",
      "display_name": "Python 3"
    },
    "language_info": {
      "name": "python"
    }
  },
  "cells": [
    {
      "cell_type": "markdown",
      "metadata": {
        "id": "view-in-github",
        "colab_type": "text"
      },
      "source": [
        "<a href=\"https://colab.research.google.com/github/JudithPadron/Inteligencia-Artificial-JC/blob/main/Evaluaci%C3%B3nDiagn%C3%B3stica.ipynb\" target=\"_parent\"><img src=\"https://colab.research.google.com/assets/colab-badge.svg\" alt=\"Open In Colab\"/></a>"
      ]
    },
    {
      "cell_type": "markdown",
      "source": [
        "#Evaluación Diagnóstica"
      ],
      "metadata": {
        "id": "0eavnqx600j2"
      }
    },
    {
      "cell_type": "markdown",
      "source": [
        "¿Como se declara una lista en python?"
      ],
      "metadata": {
        "id": "asoO5j_S0oNO"
      }
    },
    {
      "cell_type": "code",
      "source": [
        "my_list = [1,2,3,4]\n",
        "print (my_list)"
      ],
      "metadata": {
        "colab": {
          "base_uri": "https://localhost:8080/"
        },
        "id": "ICCO1ri00tsm",
        "outputId": "11639739-3f32-44c3-bf1a-6021fa6f0d78"
      },
      "execution_count": 5,
      "outputs": [
        {
          "output_type": "stream",
          "name": "stdout",
          "text": [
            "[1, 2, 3, 4]\n"
          ]
        }
      ]
    },
    {
      "cell_type": "markdown",
      "source": [
        "¿Qué función se usa para conocer el número de elementos en una lista?"
      ],
      "metadata": {
        "id": "5ndTbO2v3eW7"
      }
    },
    {
      "cell_type": "code",
      "source": [
        "totalElements = len(my_list)\n",
        "print (totalElements)\n",
        "print (len(my_list))"
      ],
      "metadata": {
        "colab": {
          "base_uri": "https://localhost:8080/"
        },
        "id": "Ijf3Dwvc31C7",
        "outputId": "41854a18-8119-4d67-ae3c-11c7b033ed45"
      },
      "execution_count": 10,
      "outputs": [
        {
          "output_type": "stream",
          "name": "stdout",
          "text": [
            "4\n",
            "4\n"
          ]
        }
      ]
    },
    {
      "cell_type": "markdown",
      "source": [
        "# Práctica de python"
      ],
      "metadata": {
        "id": "-_Dqy_R51AeN"
      }
    },
    {
      "cell_type": "markdown",
      "source": [
        "Clasificación de una lista con números pares e impares"
      ],
      "metadata": {
        "id": "SNTUTuVX1G_3"
      }
    },
    {
      "cell_type": "code",
      "source": [
        "#Declaración de variables\n",
        "numeros = [10,25,36,98,77,34,89,58]\n",
        "\n",
        "pares = []\n",
        "impares = []\n"
      ],
      "metadata": {
        "id": "ps4IhXqk1b1Y"
      },
      "execution_count": 20,
      "outputs": []
    },
    {
      "cell_type": "code",
      "source": [
        "# Ciclo for para recorrer la lista\n",
        "for numero in numeros:\n",
        "  if numero % 2 == 0:\n",
        "    # pares[0] = numeros[0]; java, c, c# \"es el valor de 'i'\"\n",
        "    pares.append(numero)\n",
        "  else:\n",
        "    impares.append(numero)"
      ],
      "metadata": {
        "id": "pxe1Y3bc2qq-"
      },
      "execution_count": 21,
      "outputs": []
    },
    {
      "cell_type": "code",
      "source": [
        "# impresión de resultados\n",
        "print (\"pares:\",pares,\"total:\",len(pares))\n",
        "print (\"impares:\",impares,\"total:\",len(impares))"
      ],
      "metadata": {
        "colab": {
          "base_uri": "https://localhost:8080/"
        },
        "id": "N4d6jtaC5H_s",
        "outputId": "cd403bb7-6bf8-4454-a41d-4768a8805db5"
      },
      "execution_count": 26,
      "outputs": [
        {
          "output_type": "stream",
          "name": "stdout",
          "text": [
            "pares: [10, 36, 98, 34, 58] total: 5\n",
            "impares: [25, 77, 89] total: 3\n"
          ]
        }
      ]
    },
    {
      "cell_type": "code",
      "source": [
        "# Función suma de los números pares\n",
        "def sumaPares(lista):\n",
        "  suma = 0\n",
        "  for numero in lista:\n",
        "      suma += numero\n",
        "  return suma"
      ],
      "metadata": {
        "id": "7smohx3f6T4S"
      },
      "execution_count": 34,
      "outputs": []
    },
    {
      "cell_type": "code",
      "source": [
        "# impresión de la suma\n",
        "print (\"suma pares:\",sumaLista(pares))\n",
        "print (\"suma impares:\",sumaLista(impares))"
      ],
      "metadata": {
        "colab": {
          "base_uri": "https://localhost:8080/",
          "height": 176
        },
        "id": "96hhMlic7U1S",
        "outputId": "36116ec3-ccbe-4570-bb1d-d88fc77d7c9a"
      },
      "execution_count": 35,
      "outputs": [
        {
          "output_type": "error",
          "ename": "NameError",
          "evalue": "name 'sumaLista' is not defined",
          "traceback": [
            "\u001b[0;31m---------------------------------------------------------------------------\u001b[0m",
            "\u001b[0;31mNameError\u001b[0m                                 Traceback (most recent call last)",
            "\u001b[0;32m<ipython-input-35-ad8b85183a27>\u001b[0m in \u001b[0;36m<cell line: 2>\u001b[0;34m()\u001b[0m\n\u001b[1;32m      1\u001b[0m \u001b[0;31m# impresión de la suma\u001b[0m\u001b[0;34m\u001b[0m\u001b[0;34m\u001b[0m\u001b[0m\n\u001b[0;32m----> 2\u001b[0;31m \u001b[0mprint\u001b[0m \u001b[0;34m(\u001b[0m\u001b[0;34m\"suma pares:\"\u001b[0m\u001b[0;34m,\u001b[0m\u001b[0msumaLista\u001b[0m\u001b[0;34m(\u001b[0m\u001b[0mpares\u001b[0m\u001b[0;34m)\u001b[0m\u001b[0;34m)\u001b[0m\u001b[0;34m\u001b[0m\u001b[0;34m\u001b[0m\u001b[0m\n\u001b[0m\u001b[1;32m      3\u001b[0m \u001b[0mprint\u001b[0m \u001b[0;34m(\u001b[0m\u001b[0;34m\"suma impares:\"\u001b[0m\u001b[0;34m,\u001b[0m\u001b[0msumaLista\u001b[0m\u001b[0;34m(\u001b[0m\u001b[0mimpares\u001b[0m\u001b[0;34m)\u001b[0m\u001b[0;34m)\u001b[0m\u001b[0;34m\u001b[0m\u001b[0;34m\u001b[0m\u001b[0m\n",
            "\u001b[0;31mNameError\u001b[0m: name 'sumaLista' is not defined"
          ]
        }
      ]
    }
  ]
}