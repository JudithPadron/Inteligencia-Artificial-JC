{
  "nbformat": 4,
  "nbformat_minor": 0,
  "metadata": {
    "colab": {
      "provenance": [],
      "toc_visible": true,
      "authorship_tag": "ABX9TyMHjJx0Kj6yHuYmznj1JTq4",
      "include_colab_link": true
    },
    "kernelspec": {
      "name": "python3",
      "display_name": "Python 3"
    },
    "language_info": {
      "name": "python"
    }
  },
  "cells": [
    {
      "cell_type": "markdown",
      "metadata": {
        "id": "view-in-github",
        "colab_type": "text"
      },
      "source": [
        "<a href=\"https://colab.research.google.com/github/JudithPadron/Inteligencia-Artificial-JC/blob/main/Practica1_IA.ipynb\" target=\"_parent\"><img src=\"https://colab.research.google.com/assets/colab-badge.svg\" alt=\"Open In Colab\"/></a>"
      ]
    },
    {
      "cell_type": "code",
      "execution_count": null,
      "metadata": {
        "colab": {
          "base_uri": "https://localhost:8080/"
        },
        "id": "qXHgljTs0x4X",
        "outputId": "b260421b-6d73-47ac-c7e1-a9493c64aab0"
      },
      "outputs": [
        {
          "output_type": "stream",
          "name": "stdout",
          "text": [
            "Judith Padron\n"
          ]
        }
      ],
      "source": [
        "print('Judith Padron')"
      ]
    },
    {
      "cell_type": "markdown",
      "source": [
        "Declarar una variable de tipo string"
      ],
      "metadata": {
        "id": "Y-AUdnDL26sJ"
      }
    },
    {
      "cell_type": "code",
      "source": [
        "nombre = 'Judith Padron'"
      ],
      "metadata": {
        "id": "bBjBNj_R3QF4"
      },
      "execution_count": null,
      "outputs": []
    },
    {
      "cell_type": "markdown",
      "source": [
        "Imprimir variable"
      ],
      "metadata": {
        "id": "NWz98bZf3kbw"
      }
    },
    {
      "cell_type": "code",
      "source": [
        "print(nombre)"
      ],
      "metadata": {
        "colab": {
          "base_uri": "https://localhost:8080/"
        },
        "id": "I4ivCKqU3bzI",
        "outputId": "dbd4d9d9-a6f7-48de-94da-49556a353ccb"
      },
      "execution_count": null,
      "outputs": [
        {
          "output_type": "stream",
          "name": "stdout",
          "text": [
            "Judith Padron\n"
          ]
        }
      ]
    }
  ]
}