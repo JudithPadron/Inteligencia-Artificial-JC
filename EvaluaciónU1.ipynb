{
  "nbformat": 4,
  "nbformat_minor": 0,
  "metadata": {
    "colab": {
      "provenance": [],
      "authorship_tag": "ABX9TyNZhHf2Q0bjC7eNp96w+bL/",
      "include_colab_link": true
    },
    "kernelspec": {
      "name": "python3",
      "display_name": "Python 3"
    },
    "language_info": {
      "name": "python"
    }
  },
  "cells": [
    {
      "cell_type": "markdown",
      "metadata": {
        "id": "view-in-github",
        "colab_type": "text"
      },
      "source": [
        "<a href=\"https://colab.research.google.com/github/JudithPadron/Inteligencia-Artificial-JC/blob/main/Evaluaci%C3%B3nU1.ipynb\" target=\"_parent\"><img src=\"https://colab.research.google.com/assets/colab-badge.svg\" alt=\"Open In Colab\"/></a>"
      ]
    },
    {
      "cell_type": "markdown",
      "source": [
        "# Evaluación\n",
        "Modificar el programa base para que funcione con las dos compuertas AND y OR.\n",
        "\n",
        "**Criterios de aceptación:** El programa va a solicitar los valores del datashet para X0 y X1, por lo cual\n",
        "la impresión de resultados debe mostrar la compuerta AND y la compuerta OR (Y).\n",
        "Menu interactivo donde pregunte si quiero introducir otro datashet."
      ],
      "metadata": {
        "id": "Nt364R5dtYIr"
      }
    },
    {
      "cell_type": "code",
      "source": [
        "def Compuertas():\n",
        "    while True:\n",
        "        X0 = int(input(\"Valor de X0: \"))\n",
        "        X1 = int(input(\"Valor de X1: \"))\n",
        "        x = [X0, X1]\n",
        "\n",
        "        # Compuerta Lógica AND\n",
        "        w_AND = [1, 1]\n",
        "        s_AND = 0\n",
        "        for i in range(2):\n",
        "            s_AND += x[i] * w_AND[i]\n",
        "        y_AND = 1 if s_AND >= 2 else 0\n",
        "        print(x[0], 'AND', x[1], '=', y_AND)\n",
        "\n",
        "        # Compuerta Lógica OR\n",
        "        w_OR = [1, 1]\n",
        "        s_OR = 0\n",
        "        for i in range(2):\n",
        "            s_OR += x[i] * w_OR[i]\n",
        "        y_OR = 1 if s_OR >= 1 else 0\n",
        "        print(x[0], 'OR', x[1], '=', y_OR)\n",
        "\n",
        "        respuesta = input(\"¿Desea introducir otro dataset? (s/n): \")\n",
        "        if respuesta.lower() != 's':\n",
        "            print(\"Gracias por usar el programa!.\")\n",
        "            break\n",
        "\n",
        "Compuertas();"
      ],
      "metadata": {
        "id": "2TCOJdV-uyr4",
        "colab": {
          "base_uri": "https://localhost:8080/"
        },
        "outputId": "12d4ea85-7212-4240-ed7f-fbb2d4e5f8e6"
      },
      "execution_count": 22,
      "outputs": [
        {
          "output_type": "stream",
          "name": "stdout",
          "text": [
            "Valor de X0: 0\n",
            "Valor de X1: 0\n",
            "0 AND 0 = 0\n",
            "0 OR 0 = 0\n",
            "¿Desea introducir otro dataset? (s/n): s\n",
            "Valor de X0: 0\n",
            "Valor de X1: 1\n",
            "0 AND 1 = 0\n",
            "0 OR 1 = 1\n",
            "¿Desea introducir otro dataset? (s/n): s\n",
            "Valor de X0: 1\n",
            "Valor de X1: 0\n",
            "1 AND 0 = 0\n",
            "1 OR 0 = 1\n",
            "¿Desea introducir otro dataset? (s/n): 1\n",
            "Gracias por usar el programa!.\n"
          ]
        }
      ]
    }
  ]
}