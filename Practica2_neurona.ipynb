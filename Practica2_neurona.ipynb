{
  "nbformat": 4,
  "nbformat_minor": 0,
  "metadata": {
    "colab": {
      "provenance": [],
      "toc_visible": true,
      "authorship_tag": "ABX9TyOJbYGvlU7TkzHwBbEH21w5",
      "include_colab_link": true
    },
    "kernelspec": {
      "name": "python3",
      "display_name": "Python 3"
    },
    "language_info": {
      "name": "python"
    }
  },
  "cells": [
    {
      "cell_type": "markdown",
      "metadata": {
        "id": "view-in-github",
        "colab_type": "text"
      },
      "source": [
        "<a href=\"https://colab.research.google.com/github/JudithPadron/Inteligencia-Artificial-JC/blob/main/Practica2_neurona.ipynb\" target=\"_parent\"><img src=\"https://colab.research.google.com/assets/colab-badge.svg\" alt=\"Open In Colab\"/></a>"
      ]
    },
    {
      "cell_type": "markdown",
      "source": [
        "# Neurona aprendizaje compuerta AND\n",
        "\n"
      ],
      "metadata": {
        "id": "GPlUXZJX5HCq"
      }
    },
    {
      "cell_type": "markdown",
      "source": [
        "\n",
        "\n",
        "---\n",
        "00 -> 0                        \n",
        "01 -> 0                     \n",
        "10 -> 0               \n",
        "11 -> 1                "
      ],
      "metadata": {
        "id": "qZVMd2Dk5iYq"
      }
    },
    {
      "cell_type": "markdown",
      "source": [
        "Tarea buscar el peso \"w\" correcto que nos de los resultados correctos en las combinaciones de datos de entrada \"X\" de la compuerta and \"s\""
      ],
      "metadata": {
        "id": "1ks4S5E29GFX"
      }
    },
    {
      "cell_type": "code",
      "source": [
        "x=[0,0] #Datos de entrada X0 y X1\n",
        "w=[1,1] #Ambos pesos de entrada son 1\n",
        "s=0\n",
        "y=0\n",
        "\n",
        "for i in range(1):\n",
        "  s=x[0]*w[0]+x[1]*w[1]\n",
        "  y=1 if s>=2 else 0\n",
        "\n",
        "  print(x[0],'AND',x[1],'=',y)"
      ],
      "metadata": {
        "colab": {
          "base_uri": "https://localhost:8080/"
        },
        "id": "JfLUWjOH28qg",
        "outputId": "3827097c-6288-4936-d12d-39d89e16dc24"
      },
      "execution_count": 58,
      "outputs": [
        {
          "output_type": "stream",
          "name": "stdout",
          "text": [
            "0 AND 0 = 0\n"
          ]
        }
      ]
    },
    {
      "cell_type": "code",
      "source": [
        "x=[0,1] #Datos de entrada X0 y X1\n",
        "w=[1,1] #Ambos pesos de entrada son 1\n",
        "s=0\n",
        "y=0\n",
        "\n",
        "for i in range(1):\n",
        "  s=x[0]*w[0]+x[1]*w[1]\n",
        "  y=1 if s>=2 else 0\n",
        "\n",
        "  print(x[0],'AND',x[1],'=',y)"
      ],
      "metadata": {
        "colab": {
          "base_uri": "https://localhost:8080/"
        },
        "id": "a9HfFcxD37yK",
        "outputId": "f65946be-6aa6-425b-9fd9-49ad4caf2a6d"
      },
      "execution_count": 59,
      "outputs": [
        {
          "output_type": "stream",
          "name": "stdout",
          "text": [
            "0 AND 1 = 0\n"
          ]
        }
      ]
    },
    {
      "cell_type": "code",
      "source": [
        "x=[1,0] #Datos de entrada X0 y X1\n",
        "w=[1,1] #Ambos pesos de entrada son 1\n",
        "s=0\n",
        "y=0\n",
        "\n",
        "for i in range(1):\n",
        "  s=x[0]*w[0]+x[1]*w[1]\n",
        "  y=1 if s>=2 else 0\n",
        "\n",
        "  print(x[0],'AND',x[1],'=',y)"
      ],
      "metadata": {
        "colab": {
          "base_uri": "https://localhost:8080/"
        },
        "id": "a0eQ-XHU4Bo-",
        "outputId": "9a183eb4-3e4e-4ab5-9024-e5e4f11edbdf"
      },
      "execution_count": 60,
      "outputs": [
        {
          "output_type": "stream",
          "name": "stdout",
          "text": [
            "1 AND 0 = 0\n"
          ]
        }
      ]
    },
    {
      "cell_type": "code",
      "source": [
        "x=[1,1] #Datos de entrada X0 y X1\n",
        "w=[1,1] #Ambos pesos de entrada son 1\n",
        "s=0\n",
        "y=0\n",
        "\n",
        "for i in range(1):\n",
        "  s=x[0]*w[0]+x[1]*w[1]\n",
        "  y=1 if s>=2 else 0\n",
        "\n",
        "  print(x[0],'AND',x[1],'=',y)"
      ],
      "metadata": {
        "colab": {
          "base_uri": "https://localhost:8080/"
        },
        "id": "tlhZYA8O4Ey2",
        "outputId": "03c427c5-45a0-41fc-c250-85ebfdeb30da"
      },
      "execution_count": 61,
      "outputs": [
        {
          "output_type": "stream",
          "name": "stdout",
          "text": [
            "1 AND 1 = 1\n"
          ]
        }
      ]
    }
  ]
}